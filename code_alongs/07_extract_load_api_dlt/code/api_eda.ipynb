{
 "cells": [
  {
   "cell_type": "markdown",
   "metadata": {},
   "source": [
    "# EDA on jobtech API\n",
    "- EDA（Exploratory Data Analysis，探索性数据分析）"
   ]
  },
  {
   "cell_type": "code",
   "execution_count": 1,
   "metadata": {},
   "outputs": [
    {
     "name": "stdout",
     "output_type": "stream",
     "text": [
      "Praktiska Gymnasiet i Uppsala söker lärare i VVS, Praktiska Sverige AB\n",
      "Uppsala Musikklasser söker lärare i idrott i kombination med annat ämne, Stift Uppsala Musikklasser\n",
      "Legitimerad yrkeslärare Vård och omsorg, Kompetensutvecklingsinst Sverige AB\n",
      "Vi söker vikarie i svenska till Drottning Blankas gymnasieskola Uppsala, DBGY Kronan AB\n",
      "Lärare åk 4-6 till Johannesbäcksskolan, Uppsala kommun\n",
      "Lärare Distansundervisning 7-9 MA och NO-ämnen samt TK, Uppsala kommun\n",
      "Lärare Distansundervisning 7-9 SV & EN, Uppsala kommun\n",
      "Lärare till gymnasial vuxenutbildning inom Vård och omsorg, Kompetensutvecklingsinst Sverige AB\n",
      "Lärare i Svenska, STEAM Education holding AB\n",
      "JENSEN grundskola Kåbo 4-9 söker timvikarier, Jensen Education AB\n",
      "Lärare VVS, Movant AB\n",
      "Lärare Hemkunskap åk 6-9, Raoul Wallenbergskolorna AB\n",
      "Lärare spanska, Raoul Wallenbergskolorna AB\n",
      "Förskollärare och lärare till olika skolformer, Clockwork Bemanning & Rekrytering AB\n",
      "Mellanstadielärare alla ämnen åk 4-6 Entréskolan Uppsala, Amisgo AB\n",
      "Högstadielärare alla ämnen åk 7-9 Entréskolan Uppsala, Amisgo AB\n"
     ]
    }
   ],
   "source": [
    "import requests\n",
    "import json\n",
    "\n",
    "\"\"\"\n",
    "Install python packages:\n",
    "pip install -r requirements.txt\n",
    "\n",
    "\"\"\"\n",
    "\n",
    "url = 'https://jobsearch.api.jobtechdev.se'\n",
    "url_for_search = f\"{url}/search\"\n",
    "\n",
    "\n",
    "def _get_ads(params):\n",
    "    headers = {'accept': 'application/json'}\n",
    "    response = requests.get(url_for_search, headers=headers, params=params)\n",
    "    response.raise_for_status()  # check for http errors\n",
    "    return json.loads(response.content.decode('utf8'))\n",
    "\n",
    "\n",
    "def example_search_return_number_of_hits(query):\n",
    "    # limit: 0 means no ads, just a value of how many ads were found.\n",
    "    search_params = {'q': query, 'limit': 0}\n",
    "    json_response = _get_ads(search_params)\n",
    "    number_of_hits = json_response['total']['value']\n",
    "    print(f\"\\nNumber of hits = {number_of_hits}\")\n",
    "\n",
    "\n",
    "def example_search_loop_through_hits(query):\n",
    "    # limit = 100 is the max number of hits that can be returned.\n",
    "    # If there are more (which you find with ['total']['value'] in the json response)\n",
    "    # you have to use offset and multiple requests to get all ads.\n",
    "    search_params = {'q': query, 'limit': 100}\n",
    "    json_response = _get_ads(search_params)\n",
    "    hits = json_response['hits']\n",
    "    for hit in hits:\n",
    "        print(f\"{hit['headline']}, {hit['employer']['name']}\")\n",
    "\n",
    "\n",
    "\n",
    "query = 'lärare uppsala'\n",
    "example_search_loop_through_hits(query)"
   ]
  },
  {
   "cell_type": "code",
   "execution_count": 2,
   "metadata": {},
   "outputs": [
    {
     "name": "stdout",
     "output_type": "stream",
     "text": [
      "\n",
      "Number of hits = 16\n"
     ]
    }
   ],
   "source": [
    "example_search_return_number_of_hits(query)"
   ]
  },
  {
   "cell_type": "code",
   "execution_count": null,
   "metadata": {},
   "outputs": [],
   "source": []
  },
  {
   "cell_type": "code",
   "execution_count": null,
   "metadata": {},
   "outputs": [],
   "source": []
  },
  {
   "cell_type": "code",
   "execution_count": null,
   "metadata": {},
   "outputs": [],
   "source": []
  },
  {
   "cell_type": "code",
   "execution_count": null,
   "metadata": {},
   "outputs": [],
   "source": []
  }
 ],
 "metadata": {
  "kernelspec": {
   "display_name": ".venv",
   "language": "python",
   "name": "python3"
  },
  "language_info": {
   "codemirror_mode": {
    "name": "ipython",
    "version": 3
   },
   "file_extension": ".py",
   "mimetype": "text/x-python",
   "name": "python",
   "nbconvert_exporter": "python",
   "pygments_lexer": "ipython3",
   "version": "3.11.5"
  }
 },
 "nbformat": 4,
 "nbformat_minor": 2
}
