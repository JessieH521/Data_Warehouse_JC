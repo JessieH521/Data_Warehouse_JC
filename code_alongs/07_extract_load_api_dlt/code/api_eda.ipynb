{
 "cells": [
  {
   "cell_type": "markdown",
   "metadata": {},
   "source": [
    "# EDA on jobtech API\n",
    "- EDA（Exploratory Data Analysis，探索性数据分析）\n",
    "\n",
    "- 数据源：       \n",
    "https://gitlab.com/arbetsformedlingen/job-ads/getting-started-code-examples/code-examples-start-here          \n",
    "里找到 文件 jobsearch_examples.py， 打开 copy代码到这个页面进行更改。\n"
   ]
  },
  {
   "cell_type": "code",
   "execution_count": 3,
   "metadata": {},
   "outputs": [
    {
     "name": "stdout",
     "output_type": "stream",
     "text": [
      "Praktiska Gymnasiet i Uppsala söker lärare i VVS, Praktiska Sverige AB\n",
      "Uppsala Musikklasser söker lärare i idrott i kombination med annat ämne, Stift Uppsala Musikklasser\n",
      "Legitimerad yrkeslärare Vård och omsorg, Kompetensutvecklingsinst Sverige AB\n",
      "Vi söker vikarie i svenska till Drottning Blankas gymnasieskola Uppsala, DBGY Kronan AB\n",
      "Lärare åk 4-6 till Johannesbäcksskolan, Uppsala kommun\n",
      "Lärare Distansundervisning 7-9 MA och NO-ämnen samt TK, Uppsala kommun\n",
      "Lärare Distansundervisning 7-9 SV & EN, Uppsala kommun\n",
      "Lärare till gymnasial vuxenutbildning inom Vård och omsorg, Kompetensutvecklingsinst Sverige AB\n",
      "Lärare i Svenska, STEAM Education holding AB\n",
      "JENSEN grundskola Kåbo 4-9 söker timvikarier, Jensen Education AB\n",
      "Lärare VVS, Movant AB\n",
      "Lärare Hemkunskap åk 6-9, Raoul Wallenbergskolorna AB\n",
      "Lärare spanska, Raoul Wallenbergskolorna AB\n",
      "Förskollärare och lärare till olika skolformer, Clockwork Bemanning & Rekrytering AB\n",
      "Mellanstadielärare alla ämnen åk 4-6 Entréskolan Uppsala, Amisgo AB\n",
      "Högstadielärare alla ämnen åk 7-9 Entréskolan Uppsala, Amisgo AB\n"
     ]
    }
   ],
   "source": [
    "import requests\n",
    "import json\n",
    "\n",
    "\"\"\"\n",
    "Install python packages:\n",
    "pip install -r requirements.txt\n",
    "\n",
    "\"\"\"\n",
    "\n",
    "url = 'https://jobsearch.api.jobtechdev.se'\n",
    "url_for_search = f\"{url}/search\"\n",
    "\n",
    "# 发送 API 请求，获取职位数据，发送 GET 请求，请求 JSON 格式的职位数据\n",
    "# 如果 HTTP 响应状态码不是 200，会抛出异常（防止 API 调用失败而程序崩溃）\n",
    "#  _get_ads ： private function\n",
    "def _get_ads(params):\n",
    "    headers = {'accept': 'application/json'}\n",
    "    response = requests.get(url_for_search, headers=headers, params=params)\n",
    "    response.raise_for_status()  # check for http errors\n",
    "    return json.loads(response.content.decode('utf8'))\n",
    "\n",
    "# 查询关键词 query 对应的 职位总数。limit: 0：不返回具体职位信息，只返回职位数量。\n",
    "def example_search_return_number_of_hits(query):\n",
    "    # limit: 0 means no ads, just a value of how many ads were found.\n",
    "    search_params = {'q': query, 'limit': 0}\n",
    "    json_response = _get_ads(search_params)\n",
    "    number_of_hits = json_response['total']['value']\n",
    "    print(f\"\\nNumber of hits = {number_of_hits}\")\n",
    "\n",
    "# 搜索并打印 前 100 条 符合 query 条件的职位信息，\"hits\" 是职位信息，每个 hit 代表一个职位。headline：职位名称；employer['name']：雇主名称\n",
    "def example_search_loop_through_hits(query):\n",
    "    # limit = 100 is the max number of hits that can be returned.\n",
    "    # If there are more (which you find with ['total']['value'] in the json response)\n",
    "    # you have to use offset and multiple requests to get all ads.\n",
    "    search_params = {'q': query, 'limit': 100}\n",
    "    json_response = _get_ads(search_params)\n",
    "    hits = json_response['hits']\n",
    "    for hit in hits:\n",
    "        print(f\"{hit['headline']}, {hit['employer']['name']}\")\n",
    "\n",
    "\n",
    "# 搜索 乌普萨拉（Uppsala）的教师（lärare）职位\n",
    "query = 'lärare uppsala'\n",
    "example_search_loop_through_hits(query)"
   ]
  },
  {
   "cell_type": "code",
   "execution_count": 4,
   "metadata": {},
   "outputs": [
    {
     "name": "stdout",
     "output_type": "stream",
     "text": [
      "\n",
      "Number of hits = 16\n"
     ]
    }
   ],
   "source": [
    "example_search_return_number_of_hits(query)"
   ]
  },
  {
   "cell_type": "code",
   "execution_count": 6,
   "metadata": {},
   "outputs": [],
   "source": [
    "search_params = {'q': query, 'limit': 100}\n",
    "json_response = _get_ads(search_params)"
   ]
  },
  {
   "cell_type": "code",
   "execution_count": 7,
   "metadata": {},
   "outputs": [
    {
     "data": {
      "text/plain": [
       "dict_keys(['total', 'positions', 'query_time_in_millis', 'result_time_in_millis', 'stats', 'freetext_concepts', 'hits'])"
      ]
     },
     "execution_count": 7,
     "metadata": {},
     "output_type": "execute_result"
    }
   ],
   "source": [
    "json_response.keys()"
   ]
  },
  {
   "cell_type": "code",
   "execution_count": 9,
   "metadata": {},
   "outputs": [
    {
     "data": {
      "text/plain": [
       "16"
      ]
     },
     "execution_count": 9,
     "metadata": {},
     "output_type": "execute_result"
    }
   ],
   "source": [
    "len(json_response[\"hits\"])"
   ]
  },
  {
   "cell_type": "code",
   "execution_count": 15,
   "metadata": {},
   "outputs": [
    {
     "data": {
      "text/plain": [
       "dict_keys(['relevance', 'id', 'external_id', 'original_id', 'label', 'webpage_url', 'logo_url', 'headline', 'application_deadline', 'number_of_vacancies', 'description', 'employment_type', 'salary_type', 'salary_description', 'duration', 'working_hours_type', 'scope_of_work', 'access', 'employer', 'application_details', 'experience_required', 'access_to_own_car', 'driving_license_required', 'driving_license', 'occupation', 'occupation_group', 'occupation_field', 'workplace_address', 'must_have', 'nice_to_have', 'application_contacts', 'publication_date', 'last_publication_date', 'removed', 'removed_date', 'source_type', 'timestamp'])"
      ]
     },
     "execution_count": 15,
     "metadata": {},
     "output_type": "execute_result"
    }
   ],
   "source": [
    "json_response[\"hits\"][1].keys()"
   ]
  },
  {
   "cell_type": "code",
   "execution_count": 16,
   "metadata": {},
   "outputs": [
    {
     "data": {
      "text/plain": [
       "'Uppsala Musikklasser söker lärare i idrott i kombination med annat ämne'"
      ]
     },
     "execution_count": 16,
     "metadata": {},
     "output_type": "execute_result"
    }
   ],
   "source": [
    "json_response[\"hits\"][1][\"headline\"]"
   ]
  },
  {
   "cell_type": "code",
   "execution_count": 20,
   "metadata": {},
   "outputs": [],
   "source": [
    "json_response = _get_ads({\"q\": \"data engineer\", \"limit\": 100})\n",
    "# json_response"
   ]
  },
  {
   "cell_type": "code",
   "execution_count": 21,
   "metadata": {},
   "outputs": [
    {
     "data": {
      "text/plain": [
       "('Engineer with experience in synthetic data for Deep Learning',\n",
       " 'Axis Communications AB')"
      ]
     },
     "execution_count": 21,
     "metadata": {},
     "output_type": "execute_result"
    }
   ],
   "source": [
    "json_response[\"hits\"][-1][\"headline\"], json_response[\"hits\"][-1][\"employer\"][\"name\"]"
   ]
  },
  {
   "cell_type": "code",
   "execution_count": null,
   "metadata": {},
   "outputs": [],
   "source": []
  },
  {
   "cell_type": "code",
   "execution_count": null,
   "metadata": {},
   "outputs": [],
   "source": []
  },
  {
   "cell_type": "code",
   "execution_count": null,
   "metadata": {},
   "outputs": [],
   "source": []
  },
  {
   "cell_type": "code",
   "execution_count": null,
   "metadata": {},
   "outputs": [],
   "source": []
  },
  {
   "cell_type": "code",
   "execution_count": null,
   "metadata": {},
   "outputs": [],
   "source": []
  },
  {
   "cell_type": "code",
   "execution_count": null,
   "metadata": {},
   "outputs": [],
   "source": []
  }
 ],
 "metadata": {
  "kernelspec": {
   "display_name": ".venv",
   "language": "python",
   "name": "python3"
  },
  "language_info": {
   "codemirror_mode": {
    "name": "ipython",
    "version": 3
   },
   "file_extension": ".py",
   "mimetype": "text/x-python",
   "name": "python",
   "nbconvert_exporter": "python",
   "pygments_lexer": "ipython3",
   "version": "3.11.5"
  }
 },
 "nbformat": 4,
 "nbformat_minor": 2
}
