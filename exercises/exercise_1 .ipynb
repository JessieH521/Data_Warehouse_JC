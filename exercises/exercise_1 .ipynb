{
 "cells": [
  {
   "cell_type": "markdown",
   "metadata": {},
   "source": [
    "0. Movie analyst\n",
    "In the lecture setup_dlt we setup a reader and writer role and also an analyst role for the database movies. However we never granted any privileges to that role. It needs the following privileges to do its work:\n",
    "\n",
    "read data from tables and views in public schema\n",
    "use dev_wh\n",
    "create views\n",
    "create tables\n",
    "create temporary tables\n",
    "Check that it has the correct grants and future grants. Now assign this role to your user, and do some manual testing to see that it works.\n",
    "\n",
    "1. Which role to use?\n",
    "Use the correct role and do the following\n",
    "\n",
    "Note\n",
    "\n",
    "Correct role refers to the system defined role and custom role that is most suitable for the task, i.e. don't use a top-level role such as ACCOUNTADMIN to do everything. Follow the principle of least privilege (PoLP) - only provide necessary access for roles to perform their duties.\n",
    "\n",
    "  a) Create a marketing virtual warehouse called marketing_wh with size xs, 1 min suspend time, it should autoresume, suspend initially and give it a suitable comment.\n",
    "\n",
    "  b) Now create a database called ifood, and add a staging layer by creating a schema called staging.\n",
    "\n",
    "  c) Create a user called extract_loader and setup its credentials.\n",
    "\n",
    "  d) Create a role marketing_dlt_role and grant it access to staging.\n",
    "\n",
    "  e) Assign marketing_dlt_role to extract_loader user.\n",
    "\n",
    "2. Load csv marketing data to snowflake\n",
    "Load this marketing data into the staging layer using dlt.\n",
    "\n",
    "3. Load olympics data from postgres to snowflake\n",
    "Download this csv file of olympics data. Setup a database in postgres and copy in the data from the csv file into postgres. Then load this data using dlt into snowflake.\n",
    "\n",
    "4. Load parking API to snowflake (**)\n",
    "Start by asking for an API key in open stockholm Trafikkontorets trafik- och vägdata som öppna data. Then go into parkering - API, read the documentation and try to load some data you find interesting into snowflake.\n",
    "\n"
   ]
  },
  {
   "cell_type": "code",
   "execution_count": null,
   "metadata": {},
   "outputs": [],
   "source": []
  }
 ],
 "metadata": {
  "language_info": {
   "name": "python"
  }
 },
 "nbformat": 4,
 "nbformat_minor": 2
}
